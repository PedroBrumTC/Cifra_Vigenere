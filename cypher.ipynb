{
 "cells": [
  {
   "cell_type": "markdown",
   "id": "9648e80a",
   "metadata": {},
   "source": [
    "# Cifra de Vigenère\n",
    "\n"
   ]
  },
  {
   "cell_type": "markdown",
   "id": "f5576242",
   "metadata": {},
   "source": [
    "O programa criado funciona da seguinte forma:\n",
    "a chave e a mensagem estão em dois arquivos chamados por padrão de \"key.txt\" e \"input.txt\", respectivamente.\n",
    "\n",
    "Para mudar o texto e a chave pode-se alterar o proprio arquivo, mas por praticidade foram criadas duas funções que fazem isso:"
   ]
  },
  {
   "cell_type": "code",
   "execution_count": 1,
   "id": "de6dc83b",
   "metadata": {},
   "outputs": [],
   "source": [
    "def setKey(key: str, arq: str = \"key.txt\"):\n",
    "    with open(arq, \"w\") as f:\n",
    "        f.write(key)\n",
    "    return\n",
    "\n",
    "def setmsg(msg: str, arq: str = \"input.txt\"):\n",
    "    with open(arq, \"w\") as f:\n",
    "        f.write(msg)\n",
    "    return"
   ]
  },
  {
   "cell_type": "markdown",
   "id": "77f86b4b",
   "metadata": {},
   "source": [
    "Vamos começar criando-as:"
   ]
  },
  {
   "cell_type": "code",
   "execution_count": 2,
   "id": "f94a7093",
   "metadata": {},
   "outputs": [
    {
     "data": {
      "text/plain": [
       "'Uma noite destas, vindo da cidade para o Engenho Novo, encontrei no trem da Central um rapaz aqui do bairro, que eu conheço de vista e de chapéu. Cumprimentou-me, sentou-se ao pé de mim, falou da Lua e dos ministros, e acabou recitando-me versos. A viagem era curta, e os versos pode ser que não fossem inteiramente maus. Sucedeu, porém, que, como eu estava cansado, fechei os olhos três ou quatro vezes; tanto bastou para que ele interrompesse a leitura e metesse os versos no bolso.'"
      ]
     },
     "execution_count": 2,
     "metadata": {},
     "output_type": "execute_result"
    }
   ],
   "source": [
    "chave = \"CRIPTOGRAFIA\"\n",
    "mensagem = \"Uma noite destas, vindo da cidade para o Engenho Novo, encontrei no trem da Central um rapaz aqui do bairro, que eu conheço de vista e de chapéu. Cumprimentou-me, sentou-se ao pé de mim, falou da Lua e dos ministros, e acabou recitando-me versos. A viagem era curta, e os versos pode ser que não fossem inteiramente maus. Sucedeu, porém, que, como eu estava cansado, fechei os olhos três ou quatro vezes; tanto bastou para que ele interrompesse a leitura e metesse os versos no bolso.\"\n",
    "\n",
    "setKey(chave)\n",
    "setmsg(mensagem)\n",
    "mensagem"
   ]
  },
  {
   "cell_type": "markdown",
   "id": "44ccabe4",
   "metadata": {},
   "source": [
    "Com o texto e a chave já configuradas podemos ir para a criptografia."
   ]
  },
  {
   "cell_type": "markdown",
   "id": "6706d200",
   "metadata": {},
   "source": [
    "### Criptografia"
   ]
  },
  {
   "cell_type": "markdown",
   "id": "2b528499",
   "metadata": {},
   "source": [
    "Para a criptografiz foram disponibilizadas duas formas. Usando:\n",
    "XOR ou ADD.\n"
   ]
  },
  {
   "cell_type": "code",
   "execution_count": 3,
   "id": "21e4c677",
   "metadata": {},
   "outputs": [],
   "source": [
    "def cypher(input = \"input.txt\", output = \"cypher.bin\", arq_key = \"key.txt\", mode=\"add\"):\n",
    "    # Ler os arquivos contendo o texto e a chave\n",
    "    with open(input, 'rb') as f, open(arq_key, 'rb') as k:\n",
    "        data = f.read()\n",
    "        key = k.read()\n",
    "        key_size = len(key)\n",
    "    \n",
    "    # Trata-los como bytes\n",
    "    data = bytearray(data)\n",
    "    key = bytearray(key)\n",
    "\n",
    "    # Criptografar\n",
    "    for i in range(len(data)):\n",
    "        # XOR \n",
    "        if mode == \"xor\":\n",
    "            c = key[i%key_size]\n",
    "            print(c)\n",
    "            data[i] = (data[i] ^ key[i%key_size])\n",
    "                \n",
    "        # ADD\n",
    "        else:\n",
    "            data[i] = (data[i] + key[i%key_size]) % 256\n",
    "\n",
    "   # Salvar o texto criptografado em outro arquivo \n",
    "    with open(output, 'wb') as output_file:\n",
    "        output_file.write(data)\n",
    "    print(f\"# Arquivo {input} cifrado com sucesso e salvo como {output}.\")"
   ]
  },
  {
   "cell_type": "markdown",
   "id": "80ee43f6",
   "metadata": {},
   "source": [
    "Com isso podemos codificar a mensagem"
   ]
  },
  {
   "cell_type": "code",
   "execution_count": 4,
   "id": "c7e425ab",
   "metadata": {},
   "outputs": [
    {
     "name": "stdout",
     "output_type": "stream",
     "text": [
      "# Arquivo input.txt cifrado com sucesso e salvo como cypher.bin.\n"
     ]
    },
    {
     "data": {
      "text/plain": [
       "b'\\x98\\xbf\\xaap\\xc2\\xbe\\xb0\\xc6\\xa6f\\xad\\xa6\\xb6\\xc6\\xaa\\xc3\\x80o\\xbd\\xbb\\xaf\\xaa\\xb8a\\xa7\\xb3i\\xb3\\xbd\\xb3\\xa8\\xb6\\xa6f\\xb9\\xa2\\xb5\\xb3i\\xbft\\x94\\xb5\\xb9\\xa6\\xb4\\xb1\\xb0c\\xa0\\xb8\\xc6\\xc3{g\\xb7\\xaf\\xa9\\xb8\\xaf\\xb7\\xc4\\xae\\xb9t\\xbd\\xb6r\\xb5\\xb8\\xae\\xaec\\xb6\\xaap\\x97\\xb4\\xb5\\xc6\\xb3\\xa7\\xb5a\\xb8\\xbfi\\xc2\\xb5\\xbf\\xa8\\xcca\\xa7\\xba\\xb6\\xacr\\xad\\xbft\\xb1\\xa8\\xbb\\xb3\\xb8\\xb8mc\\xc3\\xbe\\xb5t\\xb4\\xbcr\\xa4\\xb5\\xb7\\xa9\\xa89\\xb8p\\xb8\\xb4g\\xc8\\xaa\\xb9\\xbd\\xa2c\\xb7i\\xb4\\xb9o\\xaa\\xba\\xa2\\xb62\\xb6qr\\x8c\\xc5\\xc1\\xbf\\xb9\\xbb\\xae\\xab\\xb7\\xb5\\xb2\\xc7v\\xbd\\xb9{g\\xc5\\xa6\\xb4\\xbd\\xb0\\xb8\\x7f\\xbc\\xb5t\\xb0\\xb6r\\xb1/i\\xa5\\xa8r\\xb6\\xb9\\xc1{g\\xb8\\xa2\\xb2\\xb8\\xb6c\\xb6\\xaap\\xa0\\xc4\\xa8r\\xa6f\\xad\\xb0\\xb6r\\xb6\\xb9\\xc2\\xb8\\xba\\xc6\\xb3\\xb5\\xbcmc\\xb7i\\xb1\\xb7\\xb0\\xa9\\xc1\\xb6f\\xbb\\xa6\\xa6\\xbb\\xbd\\xb1\\xc2\\xb3\\xb6\\x7f\\xae\\xabi\\xb7\\xa8\\xc4\\xbc\\xbf\\xc7}g\\x93a\\xbc\\xb2\\xa2\\xaa\\xb7\\xb6p\\xb9\\xc1\\xa8r\\xa4\\xbb\\xbb\\xb5\\xa4~i\\xb5t\\xbe\\xbar\\xb7\\xab\\xbb\\xb4\\xb2\\xc5i\\xc0\\xc3\\xb3\\xacr\\xb4\\xab\\xbba\\xb4\\xc7\\xaep\\xc22\\xb6r\\xa7\\xb5\\xbc\\xb4\\xa8\\xbfi\\xb9\\xc2\\xc3\\xac\\xbb\\xb3\\xa7\\xb6\\xa6\\xb1\\xc6\\xaep\\xc1\\xb0\\xbc\\xc5of\\x9c\\xb6\\xa6\\xb7\\xad\\xb5\\xc9{g\\xc2\\xb0\\xb82\\xaeor\\xba\\xc5\\xb9{g\\xb5\\xb0\\xb3\\xb8a\\xa8\\xc7i\\xb5\\xc7\\xc3\\xa8\\xc8\\xa2f\\xac\\xa2\\xb1\\xc5\\xaa\\xb4\\xc3{g\\xb8\\xa6\\xa9\\xb1\\xa6\\xacr\\xb8\\xc3t\\xbe\\xb3\\xba\\xb0\\xb9i\\xb5\\xb5<\\xbcp\\xc3\\xc4g\\xc3\\xb6\\xa7\\xbd\\xb3\\xb2r\\xbf\\xb5\\xce\\xb4\\xba\\x8da\\xba\\xaa\\xaf\\xb7\\xc1i\\xb2\\xb5\\xc2\\xbb\\xc1\\xb6f\\xb9\\xa2\\xb5\\xb3i\\xc1\\xc9\\xb4g\\xb7\\xad\\xabi\\xaa\\xb1\\xc6\\xae\\xc2\\xc6\\xbe\\xb4\\xc2\\xa6\\xb9\\xbc\\xa6c\\xb3i\\xbc\\xb9\\xb8\\xbb\\xc7\\xb3\\xa7i\\xa6c\\xbf\\xae\\xc4\\xb9\\xc2\\xba\\xb7a\\xb5\\xbca\\xb9\\xb7\\xbb\\xc3\\xc3\\xc2g\\xc0\\xb0f\\xab\\xb0\\xaf\\xc5\\xb8~'"
      ]
     },
     "execution_count": 4,
     "metadata": {},
     "output_type": "execute_result"
    }
   ],
   "source": [
    "cypher()\n",
    "\n",
    "with open(\"cypher.bin\", \"rb\") as f:\n",
    "    data = f.read()\n",
    "\n",
    "data"
   ]
  },
  {
   "cell_type": "markdown",
   "id": "6947877e",
   "metadata": {},
   "source": [
    "### Descriptografar"
   ]
  },
  {
   "cell_type": "markdown",
   "id": "ef12e2f4",
   "metadata": {},
   "source": [
    "Para descriptografar o programa funciona de forma semelhante. Lê arquivos com o texto cifrado e a chave e realiza a recuperação do texto original. É importante manter os dois no mesmo modo (XOR ou ADD) para funcionar"
   ]
  },
  {
   "cell_type": "code",
   "execution_count": 5,
   "id": "fcd7d8a9",
   "metadata": {},
   "outputs": [],
   "source": [
    "def decypher(input = \"cypher.bin\", output = \"decypher.txt\", arq_key = \"key.txt\", mode=\"add\"):\n",
    "    # Ler os arquivos contendo o texto e a chave\n",
    "    with open(input, 'rb') as f, open(arq_key, 'rb') as k:\n",
    "        data = f.read()\n",
    "        key = k.read()\n",
    "        key_size = len(key)\n",
    "        \n",
    "    # Trata-los como bytes\n",
    "    data = bytearray(data)\n",
    "    key = bytearray(key)\n",
    "\n",
    "    # Descriptografar\n",
    "    for i in range(len(data)):\n",
    "        # XOR\n",
    "        if mode == \"xor\":\n",
    "            data[i] = (data[i] ^ key[i%key_size])\n",
    "            \n",
    "        # ADD\n",
    "        else:\n",
    "            data[i] = (data[i] - key[i%key_size]) % 256\n",
    "    \n",
    "    with open(output, 'wb') as output_file:\n",
    "        output_file.write(data)\n",
    "    print(f\"# Arquivo {input} decifrado com sucesso e salvo como {output}.\")"
   ]
  },
  {
   "cell_type": "code",
   "execution_count": 6,
   "id": "4b0c3d11",
   "metadata": {},
   "outputs": [
    {
     "name": "stdout",
     "output_type": "stream",
     "text": [
      "# Arquivo cypher.bin decifrado com sucesso e salvo como decypher.txt.\n"
     ]
    },
    {
     "data": {
      "text/plain": [
       "b'Uma noite destas, vindo da cidade para o Engenho Novo, encontrei no trem da Central um rapaz aqui do bairro, que eu conhe\\xe7o de vista e de chap\\xe9u. Cumprimentou-me, sentou-se ao p\\xe9 de mim, falou da Lua e dos ministros, e acabou recitando-me versos. A viagem era curta, e os versos pode ser que n\\xe3o fossem inteiramente maus. Sucedeu, por\\xe9m, que, como eu estava cansado, fechei os olhos tr\\xeas ou quatro vezes; tanto bastou para que ele interrompesse a leitura e metesse os versos no bolso.'"
      ]
     },
     "execution_count": 6,
     "metadata": {},
     "output_type": "execute_result"
    }
   ],
   "source": [
    "decypher()\n",
    "\n",
    "with open(\"decypher.txt\", \"rb\") as f:\n",
    "    data = f.read()\n",
    "\n",
    "data"
   ]
  },
  {
   "cell_type": "markdown",
   "id": "e5ca8128",
   "metadata": {},
   "source": [
    "Com isso temos o codificador e o decodificador. Porem por questão de facilidade foi criada uma classe \"Vigenere\" para aplicar esse algoritmo. Ela está salva na pasta Cifra_vigenere.py e é possivel usaá apenas executando o arquivo ou importando para o programa. Nela o parametro \"mode\" é definido na inicialização."
   ]
  },
  {
   "cell_type": "code",
   "execution_count": 1,
   "id": "c3484262",
   "metadata": {},
   "outputs": [
    {
     "name": "stdout",
     "output_type": "stream",
     "text": [
      "# Arquivo input.txt cifrado com sucesso e salvo como cypher.bin.\n"
     ]
    },
    {
     "data": {
      "text/plain": [
       "b'\\x16?(p: .&$f-$0&(#xo1;/\"&a\\'3i3=+&6$f9 13i?t\\n)5$(!.c\\x1c&&;cg7/%&/7 ,9t!(r54,,c6(p\\x17*)&3\\'%a6?i\"5?&(a\\'84*r-?t-&;34&mc#<5t*2r\")\\')&\\xb5&p0*g$(5= c7i41o$: 6\\xa04mr\\n%9?5;,#\\'5,\\'d=1cg!$(=.6\\x7f:5t.(r1\\xafi%&r$99cg4 *&4c6(p\\x18:&r$f-.0r$9:&4&3):mc7i17.%=4f;$ ;=1:+(\\x7f,#i7& :?\\'ag\\x13a0  $7$p1=&r\"3;5\"~i5t 4r7#;2,!i ;+\"r2#;a2\\',p:\\xac(r\\'):2&?i9:;\";3\\'$$-&,p9.2!of\\x1a4 7-5!cg\".4\\xa0,or8%1cg1.+&a&\\'i5\\';&$ f* -!(4;cg4$%!$*r&#t +:.5i51\\xb8:p;:g#4\\'=3,r?5.*4ia2(/7=i25<3=4f9 13i!!*g7-#i(-&,\"& *\"$5:$c3i<1&3\\'3\\'i$c?,$1<47a):a57;#;<g<.f+./!&~'"
      ]
     },
     "execution_count": 1,
     "metadata": {},
     "output_type": "execute_result"
    }
   ],
   "source": [
    "from Cifra_Vigenere import Vigenere\n",
    "\n",
    "cifra = Vigenere(mode=\"xor\")\n",
    "\n",
    "cifra.cypher()\n",
    "\n",
    "with open(\"cypher.bin\", \"rb\") as f:\n",
    "    data = f.read()\n",
    "\n",
    "data"
   ]
  },
  {
   "cell_type": "code",
   "execution_count": 2,
   "id": "eb40e8c4",
   "metadata": {},
   "outputs": [
    {
     "name": "stdout",
     "output_type": "stream",
     "text": [
      "# Arquivo cypher.bin decifrado com sucesso e salvo como decypher.txt.\n"
     ]
    },
    {
     "data": {
      "text/plain": [
       "b'Uma noite destas, vindo da cidade para o Engenho Novo, encontrei no trem da Central um rapaz aqui do bairro, que eu conhe\\xe7o de vista e de chap\\xe9u. Cumprimentou-me, sentou-se ao p\\xe9 de mim, falou da Lua e dos ministros, e acabou recitando-me versos. A viagem era curta, e os versos pode ser que n\\xe3o fossem inteiramente maus. Sucedeu, por\\xe9m, que, como eu estava cansado, fechei os olhos tr\\xeas ou quatro vezes; tanto bastou para que ele interrompesse a leitura e metesse os versos no bolso.'"
      ]
     },
     "execution_count": 2,
     "metadata": {},
     "output_type": "execute_result"
    }
   ],
   "source": [
    "cifra.decypher()\n",
    "\n",
    "with open(\"decypher.txt\", \"rb\") as f:\n",
    "    data = f.read()\n",
    "\n",
    "data"
   ]
  }
 ],
 "metadata": {
  "kernelspec": {
   "display_name": "Python 3",
   "language": "python",
   "name": "python3"
  },
  "language_info": {
   "codemirror_mode": {
    "name": "ipython",
    "version": 3
   },
   "file_extension": ".py",
   "mimetype": "text/x-python",
   "name": "python",
   "nbconvert_exporter": "python",
   "pygments_lexer": "ipython3",
   "version": "3.12.7"
  }
 },
 "nbformat": 4,
 "nbformat_minor": 5
}
