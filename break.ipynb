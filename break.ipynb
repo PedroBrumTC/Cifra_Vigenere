{
 "cells": [
  {
   "cell_type": "markdown",
   "id": "7838a897",
   "metadata": {},
   "source": [
    "Façamos uma crifra simples que só permite letras do alfabeto, tudo será convertido em maiúsculo e todos símbolos extra serão desconsiderados. A chave da mesma forma deve possuir apenas letras do alfabeto sendo 26 o número de possibilidades de cada símbolo."
   ]
  },
  {
   "cell_type": "code",
   "execution_count": 189,
   "id": "e0bdac90",
   "metadata": {},
   "outputs": [],
   "source": [
    "def validate_key(secret: str) -> bool:\n",
    "    return secret.isalpha()\n",
    "\n",
    "def cypher(secret: str, message: str):\n",
    "    if not validate_key(secret):\n",
    "        raise ValueError(\"Secret must consist of letters only.\")\n",
    "\n",
    "    secret = secret.upper()\n",
    "\n",
    "    result, secret_position = [], 0\n",
    "    for symbol in message:\n",
    "        if symbol.isalpha():\n",
    "            secret_index = secret_position % len(secret)\n",
    "            secret_shift = ord(secret[secret_index]) - ord(\"A\")\n",
    "\n",
    "            base = ord('A') if symbol.isupper() else ord('a')\n",
    "            symbol_ord = ord(symbol.upper()) - ord(\"A\")\n",
    "            encrypted_symbol = chr(base + (symbol_ord + secret_shift) % 26)\n",
    "\n",
    "            secret_position += 1\n",
    "\n",
    "            result.append(encrypted_symbol)\n",
    "        else:\n",
    "            result.append(symbol)\n",
    "\n",
    "    return \"\".join(result)\n"
   ]
  },
  {
   "cell_type": "code",
   "execution_count": 32,
   "id": "a24e2464",
   "metadata": {},
   "outputs": [
    {
     "data": {
      "text/plain": [
       "'Lxfopv ef rnhr.'"
      ]
     },
     "execution_count": 32,
     "metadata": {},
     "output_type": "execute_result"
    }
   ],
   "source": [
    "cypher(\"LEMON\", \"Attack at dawn.\")"
   ]
  },
  {
   "cell_type": "code",
   "execution_count": 190,
   "id": "72f08907",
   "metadata": {},
   "outputs": [],
   "source": [
    "def decypher(secret: str, message: str):\n",
    "    if not validate_key(secret):\n",
    "        raise ValueError(\"Secret must consist of letters only.\")\n",
    "\n",
    "    secret = secret.upper()\n",
    "\n",
    "    result, secret_position = [], 0\n",
    "    for symbol in message:\n",
    "        if symbol.isalpha():\n",
    "            secret_index = secret_position % len(secret)\n",
    "            secret_shift = ord(secret[secret_index]) - ord(\"A\")\n",
    "\n",
    "            base = ord('A') if symbol.isupper() else ord('a')\n",
    "            symbol_ord = ord(symbol.upper()) - ord(\"A\")\n",
    "            encrypted_symbol = chr(base + abs((symbol_ord - secret_shift) % 26))\n",
    "\n",
    "            secret_position += 1\n",
    "\n",
    "            result.append(encrypted_symbol)\n",
    "        else:\n",
    "            result.append(symbol)\n",
    "\n",
    "    return \"\".join(result)"
   ]
  },
  {
   "cell_type": "code",
   "execution_count": 191,
   "id": "150e228e",
   "metadata": {},
   "outputs": [
    {
     "data": {
      "text/plain": [
       "'Attack at dawn.'"
      ]
     },
     "execution_count": 191,
     "metadata": {},
     "output_type": "execute_result"
    }
   ],
   "source": [
    "decypher(\"LEMON\", \"Lxfopv ef rnhr.\")"
   ]
  },
  {
   "cell_type": "markdown",
   "id": "4b3aef53",
   "metadata": {},
   "source": [
    "# Começando o ataque\n",
    "\n",
    "Vamos agora tentar atacar esse método. Primeiro apresentamos um texto maior que possiblita a análise de frequência. A mensagem é a seguinte:\n",
    "\n",
    "\"Throughout history, the art of secret writing has evolved from simple substitution ciphers to the most advanced public key cryptosystems. Early methods relied heavily on letter frequency patterns, making them vulnerable to analytical attacks. Modern cryptography blends mathematics, computer science, and information theory to ensure confidentiality and integrity in a digital world. Researchers constantly probe algorithms to identify weaknesses and strengthen protocols. By experimenting with challenging but known plaintexts, learners develop intuition about how cryptanalysis works in practice. This extended sample contains diverse punctuation marks, spaces, and varying word lengths to simulate a realistic message that still allows for systematic analysis. Users can encrypt this passage using a repeating Vigenere key and then apply their attack strategies to recover the key length and internal structure based on statistical methods.\"\n",
    "\n",
    "Perceba que, da forma como foi implementado, o nosso cifrador irá ignorar espaços e pontuação, esse serão preservados na mensagem da forma como estão. No entanto, acentos ortográficos seriam desconsiderados, então Vigenère seria criptografado apenas a parte Vigenre e o è permaneceria como está. No texto acima evitamos essa peculiaridade propositadamente."
   ]
  },
  {
   "cell_type": "markdown",
   "id": "f6a8ba12",
   "metadata": {},
   "source": [
    "Obtemos como resultado o seguinte texto cifrado:"
   ]
  },
  {
   "cell_type": "code",
   "execution_count": 192,
   "id": "4a98a2b9",
   "metadata": {},
   "outputs": [
    {
     "data": {
      "text/plain": [
       "'Vypdnunfui ogukmgr, hnv aga mh jcrksz nrxagpx fpl sbflklb himb lwsglt zsdjrxmizzoc jgrycgl hu kht tmuk ysoottes wsdcgr dse trnwrqjwhmssj. Epyja dciacjj rtsggu fttjocy du jgkrtk txvqjllep npmhkinh, tymzlv mvkd vjslgiyqes zf achjakgrtz gktpjiu. Dmsxft trnwrqxppive sltubu dyiassrtxjq, efkenhki srpcptc, pgr oefdykckgdg hnvogf rq vlhnfk tocmgfvliborztn hlf zlixuxztn pl c ugvbhgc wdyjf. Ichxoxthtyq eflhmotkln wpqsc peuuiiioku km xwstkiuf ugricxgyvs pub ukptguzyec wpqkmrhzy. Sy tengigbxbzznv dgvy awtzrvnvpli ssi dbunn esykertqhy, cepylgiq sxjkcoe plvlgibct rbdbr jfu rkmvkachjajgh pcxbs xu ntraibqk. Khxz czkccwsj jabwjg tmcmooes sptgiqt iitttjhrkfl btfqj, sehagj, ycw jgiyxue yfps estxtwz rq jgbnzgke p ycccghmwi dehzyiv rwth ykias yncmll tui snzrgdyibq geaafqkj. Shxfy tac lleiwem hnzs ehquret ngoeg p ycrvyibbm Mivllgic zxm ged iocp rneem zyexy yvkyrd gziailekvq ih fktoklp vyc zxm rvnvaf ceb xghkinps qvisrmixv bpzcf fl hmozzsipacc ktmvuus.'"
      ]
     },
     "execution_count": 192,
     "metadata": {},
     "output_type": "execute_result"
    }
   ],
   "source": [
    "key = \"CRYPTOGRAPHY\"\n",
    "message = \"Throughout history, the art of secret writing has evolved from simple substitution ciphers to the most advanced public key cryptosystems. Early methods relied heavily on letter frequency patterns, making them vulnerable to analytical attacks. Modern cryptography blends mathematics, computer science, and information theory to ensure confidentiality and integrity in a digital world. Researchers constantly probe algorithms to identify weaknesses and strengthen protocols. By experimenting with challenging but known plaintexts, learners develop intuition about how cryptanalysis works in practice. This extended sample contains diverse punctuation marks, spaces, and varying word lengths to simulate a realistic message that still allows for systematic analysis. Users can encrypt this passage using a repeating Vigenere key and then apply their attack strategies to recover the key length and internal structure based on statistical methods.\"\n",
    "\n",
    "encrypted = cypher(key, message)\n",
    "encrypted"
   ]
  },
  {
   "cell_type": "markdown",
   "id": "f8f846e6",
   "metadata": {},
   "source": [
    "# Descobrindo o tamanho da chave\n",
    "Agora vamos descobrir o tamanho da chave. Podemos fazer isso analizando combinações de duas, três ou quatro letras, depois verificamos o espaçamento entre essas combinações e computamos os fatores primos desse espaçamento e verificamos aqueles que mais se repetem. Esse é o chamado método de Kasiski."
   ]
  },
  {
   "cell_type": "code",
   "execution_count": 46,
   "id": "836c2db5",
   "metadata": {},
   "outputs": [],
   "source": [
    "def strip_nonalpha(message: str):\n",
    "    result = []\n",
    "    for symbol in message:\n",
    "        if symbol.isalpha():\n",
    "            result.append(symbol)\n",
    "    \n",
    "    return \"\".join(result)"
   ]
  },
  {
   "cell_type": "code",
   "execution_count": 54,
   "id": "75878273",
   "metadata": {},
   "outputs": [],
   "source": [
    "def factors_up_to(n: int, max_factor: int) -> list[int]:\n",
    "    if n < 2 or max_factor < 2:\n",
    "        return []\n",
    "    \n",
    "    factors = []\n",
    "    # Only need to loop up to min(sqrt(n), max_factor)\n",
    "    upper = min(int(n ** 0.5), max_factor)\n",
    "    for i in range(2, upper + 1):\n",
    "        if n % i == 0:\n",
    "            factors.append(i)\n",
    "            complement = n // i\n",
    "            # Add the complementary factor if within limit and not duplicate\n",
    "            if complement != i and complement <= max_factor:\n",
    "                factors.append(complement)\n",
    "    \n",
    "    # If n itself is <= max_factor, include it\n",
    "    if n <= max_factor:\n",
    "        factors.append(n)\n",
    "    \n",
    "    return sorted(factors)\n"
   ]
  },
  {
   "cell_type": "code",
   "execution_count": 64,
   "id": "5a818a51",
   "metadata": {},
   "outputs": [],
   "source": [
    "from collections import defaultdict\n",
    "\n",
    "def letters_frequency(encrypted: str, seq_len: int = 3, max_key_size: int = 20):\n",
    "    positions: defaultdict[str, list[int]] = defaultdict(list)\n",
    "    for i in range(len(encrypted) - seq_len - 1):\n",
    "        combination = encrypted[i:i+seq_len]\n",
    "        positions[combination].append(i)\n",
    "\n",
    "    factors_frequency: dict[int, int] = {}\n",
    "    for locs in positions.values():\n",
    "        if len(locs) > 1:\n",
    "            for j in range(len(locs)-1):\n",
    "                spacing = locs[j+1] - locs[j]\n",
    "                factors = factors_up_to(spacing, max_key_size)\n",
    "                for factor in factors:\n",
    "                    if factor not in factors_frequency:\n",
    "                        factors_frequency[factor] = 1\n",
    "                    else:\n",
    "                        factors_frequency[factor] += 1\n",
    "\n",
    "    return factors_frequency"
   ]
  },
  {
   "cell_type": "code",
   "execution_count": 65,
   "id": "727da899",
   "metadata": {},
   "outputs": [
    {
     "data": {
      "text/plain": [
       "{2: 48,\n",
       " 3: 42,\n",
       " 4: 42,\n",
       " 6: 41,\n",
       " 12: 38,\n",
       " 7: 8,\n",
       " 9: 13,\n",
       " 14: 8,\n",
       " 18: 13,\n",
       " 5: 7,\n",
       " 8: 15,\n",
       " 10: 6,\n",
       " 15: 7,\n",
       " 16: 8,\n",
       " 20: 5,\n",
       " 13: 2,\n",
       " 19: 5,\n",
       " 11: 3,\n",
       " 17: 1}"
      ]
     },
     "execution_count": 65,
     "metadata": {},
     "output_type": "execute_result"
    }
   ],
   "source": [
    "plain = strip_nonalpha(encrypted).upper()\n",
    "letters_frequency(plain)"
   ]
  },
  {
   "cell_type": "markdown",
   "id": "bb0d0717",
   "metadata": {},
   "source": [
    "Como podemos ver os números que mais se repetem são o 2, 3, 4, 6 e 12 disparadamente. Se verificásssemos usando combinações de 2 ou 4 letras, obteríamos o mesmo resultado. Isso faz sentido já que o tamanho da nossa chave é 12 e todos os números 2, 3, 4 e 6 são fatores de 12. Na prática poderíamos tentar todas as alternativas ou observar esse fênomeno vendo a discrepância entre o 12 e os demais números (7, 9, 14, etc) e observando que todos os outros números que aparecem com frequência (2, 3, 4, 6) são fatores de 12. Portanto, chegamos no tamanho da nossa chave: 12."
   ]
  },
  {
   "cell_type": "markdown",
   "id": "3818ebd6",
   "metadata": {},
   "source": [
    "# Descobrindo a chave"
   ]
  },
  {
   "cell_type": "markdown",
   "id": "7368d49c",
   "metadata": {},
   "source": [
    "Agora sabemos o tamanho da chave (12), podemos então verificar cada letra da chave individualmente. Para cada letra, verificamos a mensagem nos índices 0, 12, 24, etc. Depois 1, 13, 25, etc, e assim por diante. Em cada caso comparamos as frequências dos símbolos com a frequência das letras da língua inglesa e verificamos qual dos deslocamentos mais corresponde. E fazemos assim letra por letra."
   ]
  },
  {
   "cell_type": "code",
   "execution_count": 138,
   "id": "7efb72e8",
   "metadata": {},
   "outputs": [],
   "source": [
    "def frequency(encrypted: str, key_size: int, key_index: int, test_key: str):\n",
    "    encrypted = strip_nonalpha(encrypted).upper()\n",
    "    current_frequency: dict[str, int] = {}\n",
    "    total = 0\n",
    "\n",
    "    for i in range(key_index, len(encrypted), key_size):\n",
    "        encrypted_symbol = encrypted[i]\n",
    "        test_decrypted_symbol = decypher(test_key, encrypted_symbol)\n",
    "        if test_decrypted_symbol not in current_frequency:\n",
    "            current_frequency[test_decrypted_symbol] = 1\n",
    "        else:\n",
    "            current_frequency[test_decrypted_symbol] += 1\n",
    "\n",
    "        total += 1\n",
    "\n",
    "    result: dict[str, float] = {key: value / total for key, value in current_frequency.items()}\n",
    "    return result"
   ]
  },
  {
   "cell_type": "markdown",
   "id": "e20096e3",
   "metadata": {},
   "source": [
    "Vamos verificar se uma frequência é \"boa\" de acordo com a ordem da língua inglesa através de uma comparação estatística entre a frequência das letras da língua inglesa e a frequência das letras advinhadas, aquela que tiver uma pontuação menor de acordo com o teste \"chi square\" é aquela que tem a frequência mais parecida e será a nossa chave."
   ]
  },
  {
   "cell_type": "code",
   "execution_count": 139,
   "id": "030567f9",
   "metadata": {},
   "outputs": [],
   "source": [
    "def chi_square_statistic(observed: dict[str, float], expected: dict[str, float]) -> float:\n",
    "    chi2 = 0.0\n",
    "    for category, E in expected.items():\n",
    "        O = observed.get(category, 0.0)\n",
    "        if E > 0:\n",
    "            chi2 += (O - E) ** 2 / E\n",
    "            \n",
    "    return chi2"
   ]
  },
  {
   "cell_type": "code",
   "execution_count": 165,
   "id": "172e40fa",
   "metadata": {},
   "outputs": [],
   "source": [
    "english_frequency = {\n",
    "    \"A\": 0.08167, \"B\": 0.01492, \"C\": 0.02782, \"D\": 0.04253, \"E\": 0.12702,\n",
    "    \"F\": 0.02228, \"G\": 0.02015, \"H\": 0.06094, \"I\": 0.06966, \"J\": 0.00153,\n",
    "    \"K\": 0.00772, \"L\": 0.04025, \"M\": 0.02406, \"N\": 0.06749, \"O\": 0.07507,\n",
    "    \"P\": 0.01929, \"Q\": 0.00095, \"R\": 0.05987, \"S\": 0.06327, \"T\": 0.09056,\n",
    "    \"U\": 0.02758, \"V\": 0.00978, \"W\": 0.02360, \"X\": 0.00150, \"Y\": 0.01974,\n",
    "    \"Z\": 0.00074,\n",
    "}"
   ]
  },
  {
   "cell_type": "code",
   "execution_count": 166,
   "id": "1472ba7b",
   "metadata": {},
   "outputs": [],
   "source": [
    "import math\n",
    "\n",
    "def best_key_for_index(encrypted: str, key_size: int, key_index: int):\n",
    "    best_key = None\n",
    "    best_score = math.inf\n",
    "    for test_key in \"ABCDEFGHIJKLMNOPQRSTUVWXYZ\":\n",
    "        score = chi_square_statistic(\n",
    "            frequency(encrypted, key_size, key_index, test_key), english_frequency\n",
    "        )\n",
    "        if score < best_score:\n",
    "            best_key = test_key\n",
    "            best_score = score\n",
    "\n",
    "    return best_key"
   ]
  },
  {
   "cell_type": "markdown",
   "id": "ebb84bcd",
   "metadata": {},
   "source": [
    "Vamos testar o nosso método com a primeira letra da chave. Como podemos ver, ele corretamente previu a letra \"C\" como a primeira."
   ]
  },
  {
   "cell_type": "code",
   "execution_count": 167,
   "id": "2dc73c31",
   "metadata": {},
   "outputs": [
    {
     "data": {
      "text/plain": [
       "'C'"
      ]
     },
     "execution_count": 167,
     "metadata": {},
     "output_type": "execute_result"
    }
   ],
   "source": [
    "best_key_for_index(encrypted, 12, 0)"
   ]
  },
  {
   "cell_type": "code",
   "execution_count": 168,
   "id": "752e7ccc",
   "metadata": {},
   "outputs": [],
   "source": [
    "def attack_cypher(encrypted: str, key_size: int):\n",
    "    result = []\n",
    "    for i in range(key_size):\n",
    "        result.append(best_key_for_index(encrypted, key_size, i))\n",
    "\n",
    "    return \"\".join(result)"
   ]
  },
  {
   "cell_type": "markdown",
   "id": "42765fe2",
   "metadata": {},
   "source": [
    "E como podemos ver podemos iterar todos os indíces descobrindo a chave."
   ]
  },
  {
   "cell_type": "code",
   "execution_count": 193,
   "id": "3f81f9cb",
   "metadata": {},
   "outputs": [
    {
     "data": {
      "text/plain": [
       "'CRYPTOGRAPHY'"
      ]
     },
     "execution_count": 193,
     "metadata": {},
     "output_type": "execute_result"
    }
   ],
   "source": [
    "attack_cypher(encrypted, 12)"
   ]
  },
  {
   "cell_type": "markdown",
   "id": "aa49fca9",
   "metadata": {},
   "source": [
    "Se estivéssemos entre os tamanhos 2, 3, 4, 6 e 12, poderíamos também compará-los usando a análise de frequência."
   ]
  },
  {
   "cell_type": "code",
   "execution_count": 185,
   "id": "385c7e54",
   "metadata": {},
   "outputs": [],
   "source": [
    "import string, math\n",
    "\n",
    "def best_size(encrypted: str, candidates: list[int]) -> int:\n",
    "    best_candidate = None\n",
    "    best_score = math.inf\n",
    "\n",
    "    for key_size in candidates:\n",
    "        total_chi = 0.0\n",
    "        for i in range(key_size):\n",
    "            # find the best shift at this position\n",
    "            min_chi = math.inf\n",
    "            for test_key in string.ascii_uppercase:\n",
    "                obs = frequency(encrypted, key_size, i, test_key)\n",
    "                chi = chi_square_statistic(obs, english_frequency)\n",
    "                if chi < min_chi:\n",
    "                    min_chi = chi\n",
    "            total_chi += min_chi\n",
    "\n",
    "        avg_chi = total_chi / key_size\n",
    "        if avg_chi < best_score:\n",
    "            best_score = avg_chi\n",
    "            best_candidate = key_size\n",
    "\n",
    "    return best_candidate\n"
   ]
  },
  {
   "cell_type": "code",
   "execution_count": 174,
   "id": "26347cc8",
   "metadata": {},
   "outputs": [
    {
     "data": {
      "text/plain": [
       "12"
      ]
     },
     "execution_count": 174,
     "metadata": {},
     "output_type": "execute_result"
    }
   ],
   "source": [
    "best_size(encrypted, [12, 6, 4, 3, 2])"
   ]
  },
  {
   "cell_type": "markdown",
   "id": "5cb3953d",
   "metadata": {},
   "source": [
    "Farei uma função agora que irá pegar os melhores candidatos baseado na análise do Kasiski, escolhendo aqueles candidatos depois de uma variação brusca. Por exemplo, perceba que no nosso exemplo anterior, depois do 12 com 38 repetições o segundo mais frequente era o 8 com 15. Essa é uma variação bastante brusca e possivelmente uma boa heurística para selecionar os melhores candidatos."
   ]
  },
  {
   "cell_type": "code",
   "execution_count": 175,
   "id": "ed235a25",
   "metadata": {},
   "outputs": [],
   "source": [
    "def select_candidates(encrypted: str, seq_len: int = 3, max_key_size: int = 20):\n",
    "    text = strip_nonalpha(encrypted).upper()\n",
    "    freqs = letters_frequency(text, seq_len, max_key_size)\n",
    "    items = sorted(freqs.items(), key=lambda kv: kv[1], reverse=True)\n",
    "    if len(items) < 2:\n",
    "        return [items[0][0]] if items else []\n",
    "\n",
    "    # compute consecutive drops\n",
    "    drops = [items[i][1] - items[i+1][1] for i in range(len(items)-1)]\n",
    "    maximum_difference = drops.index(max(drops))\n",
    "\n",
    "    return [size for size, _ in items[: maximum_difference+1]]"
   ]
  },
  {
   "cell_type": "code",
   "execution_count": 176,
   "id": "d4c9cbbe",
   "metadata": {},
   "outputs": [
    {
     "data": {
      "text/plain": [
       "[2, 3, 4, 6, 12]"
      ]
     },
     "execution_count": 176,
     "metadata": {},
     "output_type": "execute_result"
    }
   ],
   "source": [
    "select_candidates(encrypted)"
   ]
  },
  {
   "cell_type": "markdown",
   "id": "02b2fdd0",
   "metadata": {},
   "source": [
    "Finalmente criemos uma função que une todas as técnicas para descobrir uma senha qualquer."
   ]
  },
  {
   "cell_type": "code",
   "execution_count": 177,
   "id": "e2937cc4",
   "metadata": {},
   "outputs": [],
   "source": [
    "def attack(encrypted: str):\n",
    "    candidates = select_candidates(encrypted)\n",
    "    size = best_size(encrypted, candidates)\n",
    "    return attack_cypher(encrypted, size)"
   ]
  },
  {
   "cell_type": "code",
   "execution_count": 194,
   "id": "dc5b8f21",
   "metadata": {},
   "outputs": [
    {
     "data": {
      "text/plain": [
       "'CRYPTOGRAPHY'"
      ]
     },
     "execution_count": 194,
     "metadata": {},
     "output_type": "execute_result"
    }
   ],
   "source": [
    "attack(encrypted)"
   ]
  },
  {
   "cell_type": "markdown",
   "id": "ea113e23",
   "metadata": {},
   "source": [
    "Testemos agora com uma outra senha. DIFFERENT"
   ]
  },
  {
   "cell_type": "code",
   "execution_count": 179,
   "id": "4936b036",
   "metadata": {},
   "outputs": [],
   "source": [
    "encrypted = cypher(\"DIFFERENT\", message)"
   ]
  },
  {
   "cell_type": "code",
   "execution_count": 180,
   "id": "55dcd640",
   "metadata": {},
   "outputs": [
    {
     "data": {
      "text/plain": [
       "'DIFFERENT'"
      ]
     },
     "execution_count": 180,
     "metadata": {},
     "output_type": "execute_result"
    }
   ],
   "source": [
    "attack(encrypted)"
   ]
  },
  {
   "cell_type": "markdown",
   "id": "74527cb6",
   "metadata": {},
   "source": [
    "Finalmente, testemos com outra mensagem. É importante que ela seja em inglês e que contenha um número de palavras suficientemente grande para que a nossa análise estatística seja bem-sucedida."
   ]
  },
  {
   "cell_type": "code",
   "execution_count": 181,
   "id": "2074a9a1",
   "metadata": {},
   "outputs": [],
   "source": [
    "message = \"Cryptography is the science of securing communication by converting data into unreadable formats, ensuring confidentiality. Modern systems use symmetric ciphers like AES, asymmetric methods such as RSA or elliptic curve cryptography, and hashing functions like SHA. Techniques such as digital signatures verify identity and protect information in transit and at rest from unauthorized access and tampering.\"\n",
    "secret = \"PASSWORD\"\n",
    "encrypted = cypher(secret, message)"
   ]
  },
  {
   "cell_type": "code",
   "execution_count": 186,
   "id": "5a02b550",
   "metadata": {},
   "outputs": [
    {
     "data": {
      "text/plain": [
       "[2, 4, 3, 6, 12, 8]"
      ]
     },
     "execution_count": 186,
     "metadata": {},
     "output_type": "execute_result"
    }
   ],
   "source": [
    "select_candidates(encrypted)"
   ]
  },
  {
   "cell_type": "code",
   "execution_count": 187,
   "id": "c84533f5",
   "metadata": {},
   "outputs": [
    {
     "data": {
      "text/plain": [
       "'PASSWORD'"
      ]
     },
     "execution_count": 187,
     "metadata": {},
     "output_type": "execute_result"
    }
   ],
   "source": [
    "attack(encrypted)"
   ]
  }
 ],
 "metadata": {
  "kernelspec": {
   "display_name": ".venv",
   "language": "python",
   "name": "python3"
  },
  "language_info": {
   "codemirror_mode": {
    "name": "ipython",
    "version": 3
   },
   "file_extension": ".py",
   "mimetype": "text/x-python",
   "name": "python",
   "nbconvert_exporter": "python",
   "pygments_lexer": "ipython3",
   "version": "3.13.3"
  }
 },
 "nbformat": 4,
 "nbformat_minor": 5
}
