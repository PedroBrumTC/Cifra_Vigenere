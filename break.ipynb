{
 "cells": [
  {
   "cell_type": "markdown",
   "id": "7838a897",
   "metadata": {},
   "source": [
    "Importando e iniciando a cifra de Vigenere, para gerar o alvo do ataque:"
   ]
  },
  {
   "cell_type": "code",
   "execution_count": 89,
   "id": "e0bdac90",
   "metadata": {},
   "outputs": [],
   "source": [
    "from Cifra_Vigenere import *\n",
    "cifra = Vigenere()\n",
    "cypher = cifra.cypher"
   ]
  },
  {
   "cell_type": "markdown",
   "id": "4b3aef53",
   "metadata": {},
   "source": [
    "# Começando o ataque\n",
    "\n",
    "Vamos agora tentar atacar esse método. Primeiro apresentamos um texto maior que possiblita a análise de frequência. A mensagem é a seguinte:\n",
    "\n",
    "\"Throughout history, the art of secret writing has evolved from simple substitution ciphers to the most advanced public key cryptosystems. Early methods relied heavily on letter frequency patterns, making them vulnerable to analytical attacks. Modern cryptography blends mathematics, computer science, and information theory to ensure confidentiality and integrity in a digital world. Researchers constantly probe algorithms to identify weaknesses and strengthen protocols. By experimenting with challenging but known plaintexts, learners develop intuition about how cryptanalysis works in practice. This extended sample contains diverse punctuation marks, spaces, and varying word lengths to simulate a realistic message that still allows for systematic analysis. Users can encrypt this passage using a repeating Vigenere key and then apply their attack strategies to recover the key length and internal structure based on statistical methods.\"\n",
    "\n",
    "Perceba que, da forma como foi implementado, o nosso cifrador irá ignorar espaços e pontuação, esse serão preservados na mensagem da forma como estão. No entanto, acentos ortográficos seriam desconsiderados, então Vigenère seria criptografado apenas a parte Vigenre e o è permaneceria como está. No texto acima evitamos essa peculiaridade propositadamente."
   ]
  },
  {
   "cell_type": "markdown",
   "id": "f6a8ba12",
   "metadata": {},
   "source": [
    "Obtemos como resultado o seguinte texto cifrado:"
   ]
  },
  {
   "cell_type": "code",
   "execution_count": 90,
   "id": "4a98a2b9",
   "metadata": {},
   "outputs": [
    {
     "name": "stdout",
     "output_type": "stream",
     "text": [
      "# Arquivo input.txt cifrado com sucesso e salvo como cypher.bin.\n"
     ]
    },
    {
     "data": {
      "text/plain": [
       "bytearray(b'\\x97\\xba\\xcb\\xbf\\xc9\\xb6\\xaf\\xc1\\xb6\\xc4h\\xc1\\xac\\xc5\\xcd\\xbf\\xc6\\xc8sr\\xb5\\xb8\\xady\\xa4\\xc4\\xcdp\\xc3\\xb5g\\xc5\\xa6\\xb3\\xba\\xbe\\xb7r\\xd0\\xc2\\xbd\\xc3\\xb0\\xc0\\xa8p\\xb0\\xba\\xb6r\\xbe\\xc6\\xc3\\xbb\\xbd\\xb7\\xa5p\\xae\\xcb\\xb2\\xbfy\\xc3\\xbd\\xbc\\xb7\\xbe\\xa6p\\xbb\\xce\\xa5\\xc5\\xcd\\xb9\\xc8\\xc4\\xbb\\xbb\\xb0\\xbeh\\xbc\\xac\\xc2\\xc1\\xb5\\xc6\\xc2g\\xc6\\xb0p\\xbc\\xc1\\xa8r\\xc6\\xbf\\xc7\\xc3g\\xb3\\xa5\\xc6\\xa9\\xc7\\xa6\\xb7\\xbdp\\xc4\\xc4\\xa9\\xbe\\xaa\\xb3h\\xc4\\xa8\\xcby\\xb3\\xc6\\xc8\\xb7\\xc6\\xb0\\xc3\\xc1\\xcc\\xb7\\xb7\\xc6\\xc3\\x82o\\x8c\\xb3\\xb3\\xbc\\xc1y\\xb0\\xb7\\xcd\\xb8\\xc3\\xb3\\xbar\\xb3\\xb5\\xb4\\xc2\\xa8\\xb6y\\xb8\\xb9\\xb0\\xbd\\xbb\\xad\\xc9h\\xc8\\xb1r\\xc5\\xb5\\xc8\\xc3\\xac\\xc4a\\xb6\\xba\\xbe\\xb4\\xc7\\xbe\\xbe\\xb7\\xc8g\\xc2\\xa2\\xc4\\xbc\\xbe\\xb5\\xc0\\xcc|t\\xbc\\xa8\\xbd\\xaa\\xbe\\xafy\\xb7\\xba\\xbe\\xbdt\\xc5\\xbc\\xbe\\xaf\\xb5\\xba\\xba\\xa5\\xbe\\xbep\\xc8\\xbeg\\xb3\\xaf\\xb1\\xb4\\xd2\\xb7\\xbb\\xbc\\xb1\\xc0o\\xa8\\xc6\\xb5\\xb1\\xab\\xc4\\xb6\\x80y\\x9d\\xc3\\xb3\\xac\\xc4\\xafp\\xab\\xcb\\xbc\\xc2\\xcd\\xbf\\xbb\\xc1\\xa8\\xc2\\xa9\\xc9h\\xbb\\xaf\\xb7\\xc7\\xb4\\xc7o\\xb4\\xb3\\xb5\\xb8\\xad\\xc6\\xa4\\xc6\\xc2\\xb3\\xc7{g\\xb5\\xb0\\xbd\\xb8\\xce\\xb7\\xb7\\xcbp\\xc7\\xb2\\xb0\\xb7\\xaf\\xb3\\xad\\x85c\\xb3\\xc7\\xb4t\\xb8\\xb5\\xb8\\xb0\\xc2\\xb5\\xba\\xb7\\xbb\\xc8\\xbet\\xc3\\xaf\\xb7\\xb0\\xc2\\xc1y\\xb7\\xc1y\\xb5\\xc2\\xc2\\xbc\\xc4\\xa6p\\xab\\xc8\\xb1\\xb8\\xc2\\xb4\\xb9\\xbd\\xbb\\xbb\\xa2\\xbc\\xb1\\xcd\\xbcr\\xba\\xbe\\xb8o\\xb0\\xc0\\xb5\\xb5\\xaf\\xcb\\xac\\xc6\\xd2p\\xbd\\xbdg\\xb3a\\xb4\\xb1\\xc0\\xac\\xc6\\xba\\xbct\\xc6\\xb6\\xc4\\xad\\xb4vy\\x95\\xb7\\xcc\\xb5\\xb5\\xc1\\xaa\\xba\\xa6\\xc2\\xbby\\xa6\\xc1\\xc7\\xc3\\xc8\\xb0\\xb5\\xc6\\xad\\xc9h\\xc9\\xb5\\xc1\\xbb\\xb5t\\xb0\\xb3\\xb9\\xb0\\xc2\\xb1\\xcd\\xab\\xbf\\xccp\\xc8\\xbeg\\xbb\\xa5\\xb5\\xb6\\xcd\\xac\\xb8\\xd2p\\xcb\\xb4\\xa8\\xbd\\xaf\\xb5\\xbb\\xcc\\xa8\\xc5y\\xb1\\xc2\\xb3g\\xc5\\xb5\\xc2\\xad\\xc7\\xaa\\xc6\\xc1\\xb5\\xc2o\\xb7\\xc4\\xb0\\xc4\\xb7\\xbc\\xb2\\xbe\\xcc~t\\x91\\xc0r\\xa6\\xc8\\xb8\\xbe\\xb5\\xbb\\xc6\\xb5\\xc2\\xc3\\xb0\\xc0\\xa8p\\xbf\\xc2\\xb7\\xbay\\xb3\\xbc\\xb0\\xb3\\xbe\\xa6\\xbe\\xaf\\xc2\\xb1\\xb9y\\xb2\\xc9\\xc3g\\xbd\\xaf\\xbf\\xbf\\xc7c\\xc2\\xc5\\xb1\\xbd\\xbd\\xbb\\xb7\\xb9\\xc4\\xbb\\x85c\\xbe\\xbe\\xb1\\xc6\\xbd\\xac\\xc4\\xb4p\\xac\\xbe\\xb9\\xb7\\xc5\\xbf\\xc4o\\xb0\\xc0\\xb5\\xc5\\xb1\\xcd\\xac\\xc1\\xc7p\\xb5\\xb1\\xb6\\xc7\\xb5p\\xb0\\xc8\\xbar\\xbc\\xc2\\xcd\\xbf\\xbb\\xb3\\xaf\\xb1\\xb4\\xd2\\xb6\\xbb\\xccp\\xcb\\xbe\\xb9\\xbd\\xb4p\\xb1\\xc7c\\xc2\\xcb\\xb1\\xb7\\xc3\\xb0\\xb5\\xa6~h\\xad\\xab\\xbb\\xccp\\xb9\\xc7\\xbb\\xb7\\xaf\\xb4\\xad\\xbdc\\xc5\\xba\\xbd\\xc4\\xbb\\xacr\\xa4\\xbf\\xb6\\xcd\\xa4\\xbb\\xc7\\xc3t\\xb3\\xb0\\xc8\\xa6\\xc2\\xbb\\xbec\\xc2\\xce\\xbe\\xb7\\xc3\\xbc\\xb3\\xb5\\xb9\\xb7\\xc7c\\xbf\\xba\\xc2\\xbf\\xc2sr\\xb4\\xc0\\xa9\\xbc\\xa8\\xc5\\x85p\\xb5\\xbd\\xabr\\xb7\\xb1\\xba\\xd2\\xac\\xc0\\xc0p\\xcb\\xbe\\xb9\\xb6a\\xbc\\xad\\xc7\\xaa\\xc6\\xc1\\xc3t\\xc3\\xb6r\\xb4\\xb9\\xb5\\xce\\xaf\\xb3\\xcd\\xb5t\\xb0g\\xc4\\xa6\\xb1\\xb4\\xc2\\xb6\\xc6\\xc2\\xb3t\\xbc\\xac\\xc5\\xb4\\xb1\\xaf\\xbec\\xc6\\xc1\\xb1\\xc8o\\xba\\xc6\\xaa\\xbc\\xb4y\\xa4\\xbe\\xc5\\xbf\\xcb\\xc2g\\xb8\\xb0\\xc2h\\xcc\\xbc\\xc5\\xcd\\xb5\\xc1\\xb0\\xbb\\xbb\\xa4p\\xa9\\xc7\\xa4\\xbe\\xd2\\xc3\\xbd\\xc2ur\\x96\\xc3\\xad\\xcb\\xb6r\\xbc\\xb1\\xc2o\\xac\\xc0\\xa4\\xc2\\xc1\\xc9\\xb7r\\xcd\\xb8\\xbd\\xc2g\\xc2\\xa2\\xc3\\xbb\\xba\\xaa\\xb7y\\xc5\\xc7\\xb8\\xb5\\xb9a\\xb1h\\xcb\\xa8\\xc2\\xbe\\xb1\\xc8\\xb8\\xb5\\xb9a\\xa6\\xb1\\xc0\\xa8\\xc0\\xbe\\xc2\\xb9o\\xb2\\xb7\\xbap\\xa9\\xc7\\xa7r\\xcd\\xb8\\xb9\\xbdg\\xb3\\xb1\\xc0\\xb4\\xd2c\\xc6\\xc1\\xb5\\xbd\\xc1g\\xb3\\xb5\\xc4\\xa9\\xbc\\xaer\\xcc\\xc4\\xc6\\xb0\\xbb\\xb7\\xa8\\xb9\\xad\\xccc\\xc6\\xc8p\\xc6\\xb4\\xaa\\xc1\\xb7\\xb5\\xbay\\xb7\\xba\\xbep\\xbf\\xb4\\xc0r\\xad\\xb5\\xb6\\xc0\\xb7\\xbay\\xb1\\xc2\\xb3g\\xbb\\xaf\\xc4\\xad\\xcb\\xb1\\xb3\\xc5p\\xc7\\xc3\\xb9\\xc7\\xa4\\xc4\\xbd\\xcb\\xa8r\\xbb\\xb1\\xc7\\xb4\\xabr\\xb0\\xbeh\\xcc\\xb7\\xb3\\xcd\\xb9\\xc7\\xc3\\xb0\\xb5\\xa2\\xbch\\xc6\\xa8\\xc6\\xc1\\xbf\\xb8\\xc2u')"
      ]
     },
     "execution_count": 90,
     "metadata": {},
     "output_type": "execute_result"
    }
   ],
   "source": [
    "key = \"CRYPTOGRAPHY\"\n",
    "message = \"Throughout history, the art of secret writing has evolved from simple substitution ciphers to the most advanced public key cryptosystems. Early methods relied heavily on letter frequency patterns, making them vulnerable to analytical attacks. Modern cryptography blends mathematics, computer science, and information theory to ensure confidentiality and integrity in a digital world. Researchers constantly probe algorithms to identify weaknesses and strengthen protocols. By experimenting with challenging but known plaintexts, learners develop intuition about how cryptanalysis works in practice. This extended sample contains diverse punctuation marks, spaces, and varying word lengths to simulate a realistic message that still allows for systematic analysis. Users can encrypt this passage using a repeating Vigenere key and then apply their attack strategies to recover the key length and internal structure based on statistical methods.\"\n",
    "language = \"en\"\n",
    "setKey(key)\n",
    "setmsg(message)\n",
    "cypher()\n",
    "\n",
    "with open(\"cypher.bin\", \"rb\") as f:\n",
    "    encrypted = f.read()\n",
    "    encrypted = bytearray(encrypted)\n",
    "\n",
    "encrypted"
   ]
  },
  {
   "cell_type": "markdown",
   "id": "f8f846e6",
   "metadata": {},
   "source": [
    "# Descobrindo o tamanho da chave\n",
    "Agora vamos descobrir o tamanho da chave. Podemos fazer isso analizando combinações de duas, três ou quatro letras, depois verificamos o espaçamento entre essas combinações e computamos os fatores primos desse espaçamento e verificamos aqueles que mais se repetem. Esse é o chamado método de Kasiski."
   ]
  },
  {
   "cell_type": "code",
   "execution_count": 91,
   "id": "75878273",
   "metadata": {},
   "outputs": [],
   "source": [
    "def factors_up_to(n: int, max_factor: int) -> list[int]:\n",
    "    if n < 2 or max_factor < 2:\n",
    "        return []\n",
    "    \n",
    "    factors = []\n",
    "    # Only need to loop up to min(sqrt(n), max_factor)\n",
    "    upper = min(int(n ** 0.5), max_factor)\n",
    "    for i in range(2, upper + 1):\n",
    "        if n % i == 0:\n",
    "            factors.append(i)\n",
    "            complement = n // i\n",
    "            # Add the complementary factor if within limit and not duplicate\n",
    "            if complement != i and complement <= max_factor:\n",
    "                factors.append(complement)\n",
    "    \n",
    "    # If n itself is <= max_factor, include it\n",
    "    if n <= max_factor:\n",
    "        factors.append(n)\n",
    "    \n",
    "    return sorted(factors)\n"
   ]
  },
  {
   "cell_type": "code",
   "execution_count": 92,
   "id": "5a818a51",
   "metadata": {},
   "outputs": [],
   "source": [
    "from collections import defaultdict\n",
    "\n",
    "def letters_frequency(encrypted: bytearray, seq_len: int = 3, max_key_size: int = 20):\n",
    "    positions: defaultdict[bytes, list[int]] = defaultdict(list)\n",
    "    for i in range(len(encrypted) - seq_len - 1):\n",
    "        combination = bytes(encrypted[i:i+seq_len])\n",
    "        positions[combination].append(i)\n",
    "\n",
    "    factors_frequency: dict[int, int] = {}\n",
    "    for locs in positions.values():\n",
    "        if len(locs) > 1:\n",
    "            for j in range(len(locs)-1):\n",
    "                spacing = locs[j+1] - locs[j]\n",
    "                factors = factors_up_to(spacing, max_key_size)\n",
    "                for factor in factors:\n",
    "                    if factor not in factors_frequency:\n",
    "                        factors_frequency[factor] = 1\n",
    "                    else:\n",
    "                        factors_frequency[factor] += 1\n",
    "\n",
    "    return factors_frequency"
   ]
  },
  {
   "cell_type": "code",
   "execution_count": 93,
   "id": "727da899",
   "metadata": {},
   "outputs": [
    {
     "data": {
      "text/plain": [
       "{2: 42,\n",
       " 3: 39,\n",
       " 4: 39,\n",
       " 6: 39,\n",
       " 7: 5,\n",
       " 9: 8,\n",
       " 12: 39,\n",
       " 14: 5,\n",
       " 18: 8,\n",
       " 5: 5,\n",
       " 8: 20,\n",
       " 10: 5,\n",
       " 15: 5,\n",
       " 20: 5,\n",
       " 16: 14,\n",
       " 17: 2,\n",
       " 13: 1,\n",
       " 19: 3,\n",
       " 11: 1}"
      ]
     },
     "execution_count": 93,
     "metadata": {},
     "output_type": "execute_result"
    }
   ],
   "source": [
    "letters_frequency(encrypted)"
   ]
  },
  {
   "cell_type": "markdown",
   "id": "bb0d0717",
   "metadata": {},
   "source": [
    "Como podemos ver os números que mais se repetem são o 2, 3, 4, 6 e 12 disparadamente. Se verificásssemos usando combinações de 2 ou 4 letras, obteríamos o mesmo resultado. Isso faz sentido já que o tamanho da nossa chave é 12 e todos os números 2, 3, 4 e 6 são fatores de 12. Na prática poderíamos tentar todas as alternativas ou observar esse fênomeno vendo a discrepância entre o 12 e os demais números (7, 9, 14, etc) e observando que todos os outros números que aparecem com frequência (2, 3, 4, 6) são fatores de 12. Portanto, chegamos no tamanho da nossa chave: 12."
   ]
  },
  {
   "cell_type": "markdown",
   "id": "3818ebd6",
   "metadata": {},
   "source": [
    "# Descobrindo a chave"
   ]
  },
  {
   "cell_type": "markdown",
   "id": "7368d49c",
   "metadata": {},
   "source": [
    "Agora sabemos o tamanho da chave (12), podemos então verificar cada letra da chave individualmente. Para cada letra, verificamos a mensagem nos índices 0, 12, 24, etc. Depois 1, 13, 25, etc, e assim por diante. Em cada caso comparamos as frequências dos símbolos com a frequência das letras da língua inglesa e verificamos qual dos deslocamentos mais corresponde. E fazemos assim letra por letra."
   ]
  },
  {
   "cell_type": "code",
   "execution_count": 94,
   "id": "7efb72e8",
   "metadata": {},
   "outputs": [],
   "source": [
    "def decypher(encrypted_symbol, test_key):\n",
    "    return (encrypted_symbol - test_key[0]) % 256\n",
    "\n",
    "def frequency(encrypted: bytearray, key_size: int, key_index: int, test_key: str):\n",
    "    current_frequency: dict[int, int] = {}\n",
    "    test_key = bytearray(test_key, \"ascii\")\n",
    "    total = 0\n",
    "\n",
    "    for i in range(key_index, len(encrypted), key_size):\n",
    "        encrypted_symbol = encrypted[i]\n",
    "        test_decrypted_symbol = decypher(encrypted_symbol, test_key)\n",
    "        if test_decrypted_symbol not in current_frequency:\n",
    "            current_frequency[test_decrypted_symbol] = 1\n",
    "        else:\n",
    "            current_frequency[test_decrypted_symbol] += 1\n",
    "\n",
    "        total += 1\n",
    "\n",
    "    result: dict[str, float] = {key: value / total for key, value in current_frequency.items()}\n",
    "    return result"
   ]
  },
  {
   "cell_type": "markdown",
   "id": "e20096e3",
   "metadata": {},
   "source": [
    "Vamos verificar se uma frequência é \"boa\" de acordo com a ordem da língua inglesa através de uma comparação estatística entre a frequência das letras da língua inglesa e a frequência das letras advinhadas, aquela que tiver uma pontuação menor de acordo com o teste \"chi square\" é aquela que tem a frequência mais parecida e será a nossa chave."
   ]
  },
  {
   "cell_type": "code",
   "execution_count": 95,
   "id": "030567f9",
   "metadata": {},
   "outputs": [],
   "source": [
    "def chi_square_statistic(observed: dict[int, float], expected: dict[str, float]) -> float:\n",
    "    chi2 = 0.0\n",
    "    for category, E in expected.items():\n",
    "        O = observed.get(ord(category.lower()), 0.0)\n",
    "        if E > 0:\n",
    "            chi2 += (O - E) ** 2 / E\n",
    "            \n",
    "    return chi2"
   ]
  },
  {
   "cell_type": "code",
   "execution_count": 96,
   "id": "172e40fa",
   "metadata": {},
   "outputs": [],
   "source": [
    "english_frequency = {\n",
    "    \"A\": 0.08167, \"B\": 0.01492, \"C\": 0.02782, \"D\": 0.04253, \"E\": 0.12702,\n",
    "    \"F\": 0.02228, \"G\": 0.02015, \"H\": 0.06094, \"I\": 0.06966, \"J\": 0.00153,\n",
    "    \"K\": 0.00772, \"L\": 0.04025, \"M\": 0.02406, \"N\": 0.06749, \"O\": 0.07507,\n",
    "    \"P\": 0.01929, \"Q\": 0.00095, \"R\": 0.05987, \"S\": 0.06327, \"T\": 0.09056,\n",
    "    \"U\": 0.02758, \"V\": 0.00978, \"W\": 0.02360, \"X\": 0.00150, \"Y\": 0.01974,\n",
    "    \"Z\": 0.00074,\n",
    "}\n",
    "portuguese_frequency = {\n",
    "    \"A\": 0.1463, \"B\": 0.0104, \"C\": 0.0388, \"D\": 0.0499, \"E\": 0.1257,\n",
    "    \"F\": 0.0102, \"G\": 0.0130, \"H\": 0.0078, \"I\": 0.0618, \"J\": 0.0039,\n",
    "    \"K\": 0.0002, \"L\": 0.0278, \"M\": 0.0474, \"N\": 0.0505, \"O\": 0.1073,\n",
    "    \"P\": 0.0252, \"Q\": 0.0120, \"R\": 0.0653, \"S\": 0.0781, \"T\": 0.0434,\n",
    "    \"U\": 0.0463, \"V\": 0.0167, \"W\": 0.0001, \"X\": 0.0021, \"Y\": 0.0001,\n",
    "    \"Z\": 0.0047\n",
    "}"
   ]
  },
  {
   "cell_type": "code",
   "execution_count": 97,
   "id": "1472ba7b",
   "metadata": {},
   "outputs": [],
   "source": [
    "import math, string\n",
    "\n",
    "def best_key_for_index(encrypted: bytearray, key_size: int, key_index: int, language: str = \"en\"):\n",
    "    best_key = None\n",
    "    best_score = math.inf\n",
    "\n",
    "    if language == \"en\":\n",
    "        freq = english_frequency\n",
    "    else:\n",
    "        freq = portuguese_frequency\n",
    "    \n",
    "    for test_key in string.ascii_letters:\n",
    "        score = chi_square_statistic(\n",
    "            frequency(encrypted, key_size, key_index, test_key), freq\n",
    "        )\n",
    "        if score < best_score:\n",
    "            best_key = test_key\n",
    "            best_score = score\n",
    "\n",
    "    return best_key"
   ]
  },
  {
   "cell_type": "markdown",
   "id": "ebb84bcd",
   "metadata": {},
   "source": [
    "Vamos testar o nosso método com a primeira letra da chave. Como podemos ver, ele corretamente previu a letra \"C\" como a primeira."
   ]
  },
  {
   "cell_type": "code",
   "execution_count": 98,
   "id": "2dc73c31",
   "metadata": {},
   "outputs": [
    {
     "data": {
      "text/plain": [
       "'C'"
      ]
     },
     "execution_count": 98,
     "metadata": {},
     "output_type": "execute_result"
    }
   ],
   "source": [
    "best_key_for_index(encrypted, 12, 0)"
   ]
  },
  {
   "cell_type": "code",
   "execution_count": 99,
   "id": "752e7ccc",
   "metadata": {},
   "outputs": [],
   "source": [
    "def attack_cypher(encrypted: bytearray, key_size: int, language: str = \"en\"):\n",
    "    result = []\n",
    "    for i in range(key_size):\n",
    "        result.append(best_key_for_index(encrypted, key_size, i, language))\n",
    "\n",
    "    return \"\".join(result)"
   ]
  },
  {
   "cell_type": "markdown",
   "id": "42765fe2",
   "metadata": {},
   "source": [
    "E como podemos ver podemos iterar todos os indíces descobrindo a chave."
   ]
  },
  {
   "cell_type": "code",
   "execution_count": 100,
   "id": "3f81f9cb",
   "metadata": {},
   "outputs": [
    {
     "data": {
      "text/plain": [
       "'CRYPTOGRAPHY'"
      ]
     },
     "execution_count": 100,
     "metadata": {},
     "output_type": "execute_result"
    }
   ],
   "source": [
    "attack_cypher(encrypted, 12)"
   ]
  },
  {
   "cell_type": "markdown",
   "id": "aa49fca9",
   "metadata": {},
   "source": [
    "Se estivéssemos entre os tamanhos 2, 3, 4, 6 e 12, poderíamos também compará-los usando a análise de frequência."
   ]
  },
  {
   "cell_type": "code",
   "execution_count": 101,
   "id": "385c7e54",
   "metadata": {},
   "outputs": [],
   "source": [
    "import string, math\n",
    "def best_size(encrypted: bytearray, candidates: list[int]) -> int:\n",
    "    best_candidate = None\n",
    "    best_score = math.inf\n",
    "\n",
    "    for key_size in candidates:\n",
    "        total_chi = 0.0\n",
    "        for i in range(key_size):\n",
    "            # find the best shift at this position\n",
    "            min_chi = math.inf\n",
    "            for test_key in string.ascii_letters:\n",
    "                obs = frequency(encrypted, key_size, i, test_key)\n",
    "                chi = chi_square_statistic(obs, english_frequency)\n",
    "                if chi < min_chi:\n",
    "                    min_chi = chi\n",
    "            total_chi += min_chi\n",
    "\n",
    "        avg_chi = total_chi / key_size\n",
    "        if avg_chi < best_score:\n",
    "            best_score = avg_chi\n",
    "            best_candidate = key_size\n",
    "\n",
    "    return best_candidate\n"
   ]
  },
  {
   "cell_type": "code",
   "execution_count": 102,
   "id": "26347cc8",
   "metadata": {},
   "outputs": [
    {
     "data": {
      "text/plain": [
       "12"
      ]
     },
     "execution_count": 102,
     "metadata": {},
     "output_type": "execute_result"
    }
   ],
   "source": [
    "best_size(encrypted, [12, 6, 4, 3, 2])"
   ]
  },
  {
   "cell_type": "markdown",
   "id": "5cb3953d",
   "metadata": {},
   "source": [
    "Farei uma função agora que irá pegar os melhores candidatos baseado na análise do Kasiski, escolhendo aqueles candidatos depois de uma variação brusca. Por exemplo, perceba que no nosso exemplo anterior, depois do 12 com 38 repetições o segundo mais frequente era o 8 com 15. Essa é uma variação bastante brusca e possivelmente uma boa heurística para selecionar os melhores candidatos."
   ]
  },
  {
   "cell_type": "code",
   "execution_count": 103,
   "id": "ed235a25",
   "metadata": {},
   "outputs": [],
   "source": [
    "def select_candidates(encrypted: bytearray, seq_len: int = 3, max_key_size: int = 20):\n",
    "    text = encrypted\n",
    "    freqs = letters_frequency(text, seq_len, max_key_size)\n",
    "    items = sorted(freqs.items(), key=lambda kv: kv[1], reverse=True)\n",
    "    if len(items) < 2:\n",
    "        return [items[0][0]] if items else []\n",
    "\n",
    "    # compute consecutive drops\n",
    "    drops = [items[i][1] - items[i+1][1] for i in range(len(items)-1)]\n",
    "    maximum_difference = drops.index(max(drops))\n",
    "\n",
    "    return [size for size, _ in items[: maximum_difference+1]]"
   ]
  },
  {
   "cell_type": "code",
   "execution_count": 104,
   "id": "d4c9cbbe",
   "metadata": {},
   "outputs": [
    {
     "data": {
      "text/plain": [
       "[2, 3, 4, 6, 12]"
      ]
     },
     "execution_count": 104,
     "metadata": {},
     "output_type": "execute_result"
    }
   ],
   "source": [
    "select_candidates(encrypted)"
   ]
  },
  {
   "cell_type": "markdown",
   "id": "02b2fdd0",
   "metadata": {},
   "source": [
    "Finalmente criemos uma função que une todas as técnicas para descobrir uma senha qualquer."
   ]
  },
  {
   "cell_type": "code",
   "execution_count": 105,
   "id": "e2937cc4",
   "metadata": {},
   "outputs": [],
   "source": [
    "def attack(encrypted: bytearray, language=\"en\"):\n",
    "    candidates = select_candidates(encrypted)\n",
    "    size = best_size(encrypted, candidates)\n",
    "    return attack_cypher(encrypted, size, language=language)"
   ]
  },
  {
   "cell_type": "code",
   "execution_count": 106,
   "id": "dc5b8f21",
   "metadata": {},
   "outputs": [
    {
     "data": {
      "text/plain": [
       "'CRYPTOGRAPHY'"
      ]
     },
     "execution_count": 106,
     "metadata": {},
     "output_type": "execute_result"
    }
   ],
   "source": [
    "attack(encrypted, language)"
   ]
  },
  {
   "cell_type": "markdown",
   "id": "ea113e23",
   "metadata": {},
   "source": [
    "Testemos agora com uma outra senha. DIFFERENT"
   ]
  },
  {
   "cell_type": "code",
   "execution_count": 107,
   "id": "4936b036",
   "metadata": {},
   "outputs": [
    {
     "name": "stdout",
     "output_type": "stream",
     "text": [
      "# Arquivo input.txt cifrado com sucesso e salvo como cypher.bin.\n"
     ]
    },
    {
     "data": {
      "text/plain": [
       "bytearray(b'\\x98\\xb1\\xb8\\xb5\\xba\\xb9\\xad\\xbd\\xc9\\xb8i\\xae\\xaf\\xb8\\xc6\\xb4\\xc0\\xcdpi\\xba\\xae\\xaar\\xa6\\xc0\\xc8d\\xb8\\xacf\\xb8\\xb7\\xa8\\xc0\\xb9\\xb8i\\xbd\\xb8\\xae\\xc6\\xae\\xbc\\xbbd\\xb1\\xa7\\xb9e\\xb7\\xbb\\xbd\\xc0\\xba\\xae\\xaaf\\xab\\xc4\\xb4\\xbbt\\xb7\\xb2\\xb3\\xb6\\xb1\\xb7e\\xc1\\xc9\\xa6\\xbc\\xba\\xaf\\xb9\\xc7\\xb9\\xb7\\xc3\\xb2i\\xa9\\xaf\\xb5\\xba\\xaa\\xc0\\xc7d\\xbd\\xb5f\\xb9\\xba\\xaan\\xc1\\xb3\\xbc\\xbaf\\xa6\\xb6\\xbb\\xaf\\xc2\\xa7\\xae\\xaaf\\xb5\\xc7\\xa7\\xba\\xbd\\xa7i\\xb1\\xab\\xber\\xa8\\xc0\\xcd\\xb4\\xbd\\xb5\\xb9\\xbe\\xc5\\xb9\\xb3\\xc1\\xb7wf\\x8b\\xa6\\xc4\\xb1\\xc7t\\xb1\\xae\\xba\\xae\\xb4\\xb6\\xb8n\\xc6\\xa9\\xb5\\xaf\\xab\\xa9r\\xad\\xb3\\xb5\\xba\\xb2\\xb2\\xbfe\\xc1\\xb3n\\xc0\\xa9\\xbd\\xba\\xab\\xb7r\\xab\\xc0\\xb9\\xb5\\xbe\\xab\\xb4\\xa8\\xcbe\\xbe\\xb5\\xb8\\xbd\\xab\\xb8\\xb3\\xc5qn\\xc1\\xa5\\xb4\\xaf\\xb4\\xacr\\xb9\\xb6\\xb9\\xb1i\\xbc\\xbb\\xb1\\xc0\\xaa\\xc0\\xb5\\xa6\\xb5\\xabf\\xb9\\xc1e\\xaf\\xc2\\xa5\\xb5\\xbf\\xba\\xae\\xb5\\xa6\\xbat\\xa5\\xbd\\xba\\xa7\\xa8\\xbd\\xb8|t\\x91\\xb8\\xaa\\xab\\xb7\\xc0e\\xb1\\xc6\\xbd\\xb9\\xba\\xb5\\xac\\xc4\\xa6\\xbe\\xbc\\xbdi\\xa8\\xb2\\xaa\\xc0\\xa9\\xc1t\\xb1\\xaa\\xba\\xae\\xaa\\xbf\\xa6\\xc2\\xbd\\xa7\\xbcrf\\xa8\\xc1\\xb2\\xbe\\xc9\\xb8\\xae\\xb8f\\xb8\\xb5\\xae\\xb3\\xc2\\xa7\\xaerf\\xa6\\xc0\\xa9n\\xbd\\xb2\\xaf\\xb5\\xb8\\xb2\\xb3\\xb9\\xb7\\xc3\\xb2i\\xba\\xae\\xaa\\xc1\\xb7\\xc7t\\xb8\\xb8f\\xab\\xb3\\xc5\\xba\\xc0\\xb9d\\xac\\xb5\\xb4\\xab\\xbb\\xa9\\xb3\\xc2\\xb8\\xb2\\xa7\\xb2\\xae\\xc6\\xben\\xb5\\xb2\\xadf\\xaf\\xb3\\xc6\\xaa\\xb5\\xc6\\xad\\xbd\\xbff\\xae\\xc0e\\xaft\\xa8\\xb2\\xad\\xaf\\xb9\\xb3\\xb1n\\xcb\\xb3\\xbb\\xb2\\xaasr\\x97\\xb3\\xc7\\xa9\\xaa\\xb8\\xa9\\xad\\xb7\\xb7\\xc1t\\xa7\\xb8\\xb4\\xb9\\xb9\\xb3\\xb3\\xc2\\xc0\\xbdi\\xb6\\xb8\\xb4\\xb4\\xaan\\xb5\\xb0\\xb0\\xb5\\xb8\\xae\\xc6\\xad\\xbb\\xc7d\\xbd\\xb5f\\xae\\xb6\\xaa\\xbc\\xc8\\xad\\xaf\\xbff\\xbc\\xb7\\xa6\\xb9\\xc2\\xa9\\xbc\\xb9\\xab\\xb8r\\xa6\\xbc\\xb8d\\xbc\\xba\\xb8\\xaa\\xc0\\xac\\xc2\\xbc\\xa9\\xb7f\\xb6\\xb7\\xc1\\xb9\\xbd\\xb7\\xb3\\xb5\\xb9te\\x94\\xben\\xb9\\xbc\\xb9\\xab\\xb8\\xae\\xbf\\xaa\\xbc\\xc8\\xad\\xb7\\xadf\\xbc\\xbb\\xb9\\xb6t\\xa7\\xb1\\xa7\\xb2\\xb1\\xb7\\xb3\\xb5\\xbd\\xb2\\xb0f\\xa8\\xba\\xc6e\\xb9\\xc2\\xb3\\xc0\\xb4f\\xb5\\xbe\\xa6\\xb7\\xc2\\xb8\\xae\\xbe\\xba\\xb8~e\\xba\\xb9\\xa5\\xbb\\xb4\\xab\\xb7\\xc5e\\xb2\\xb9\\xba\\xae\\xb2\\xb5\\xb5r\\xae\\xbc\\xc8\\xb9\\xb2\\xba\\xaf\\xb4\\xc0e\\xaf\\xb6\\xb3\\xbe\\xbaf\\xad\\xc1\\xbcn\\xb7\\xb6\\xc2\\xb6\\xba\\xa6\\xc0\\xa6\\xba\\xcd\\xb7\\xb2\\xb9f\\xbc\\xc1\\xb7\\xb9\\xc7d\\xb2\\xb4f\\xb5\\xc4\\xa6\\xb1\\xc8\\xad\\xac\\xabte\\xa6\\xad\\xb7\\xc7d\\xae\\xbe\\xba\\xaa\\xc0\\xa9\\xb3\\xb8d\\xbc\\xa7\\xb3\\xb5\\xbe\\xaan\\xb7\\xb3\\xb7\\xba\\xa7\\xae\\xc0\\xb8n\\xb8\\xad\\xbf\\xab\\xb8\\xb8\\xb7e\\xbe\\xc9\\xb2\\xac\\xba\\xbb\\xa6\\xc6\\xae\\xbd\\xc2d\\xb6\\xa7\\xb8\\xb0\\xc5qn\\xc7\\xb4\\xaa\\xa9\\xab\\xb8~e\\xaf\\xc2\\xa8i\\xbc\\xa7\\xb7\\xcb\\xae\\xbc\\xbbd\\xc0\\xb5\\xb8\\xa9r\\xb1\\xb3\\xc2\\xab\\xbd\\xae\\xb9e\\xc6\\xb4n\\xc7\\xad\\xb6\\xbb\\xb2\\xa6\\xc6\\xaan\\xb5d\\xbb\\xab\\xa7\\xb1\\xbb\\xb8\\xc2\\xbd\\xa7i\\xb3\\xab\\xb8\\xc5\\xa6\\xb5\\xb9d\\xbd\\xae\\xa7\\xb9r\\xb8\\xc2\\xbd\\xb0\\xb5f\\xa7\\xb1\\xbe\\xb4\\xc5\\xc7d\\xaf\\xb5\\xb8e\\xc5\\xbe\\xc1\\xc8\\xa9\\xb6\\xa7\\xba\\xae\\xb5e\\xaf\\xc2\\xa5\\xb5\\xbf\\xb9\\xae\\xc5sn\\xa9\\xb7\\xae\\xb8\\xb9e\\xb5\\xa6\\xbct\\xa9\\xb7\\xa9\\xb8\\xbe\\xc2\\xb9n\\xc8\\xac\\xb2\\xb9f\\xb5\\xb3\\xb8\\xc1\\xb5\\xab\\xaef\\xbb\\xb8\\xbb\\xb3\\xb5t\\xa5i\\xb8\\xab\\xb5\\xb7\\xa6\\xc2\\xbd\\xb2\\xb0f\\x9c\\xae\\xb9\\xaa\\xbc\\xb9\\xb6\\xaef\\xb1\\xaa\\xcbe\\xaf\\xc2\\xa8i\\xba\\xae\\xaa\\xc0e\\xaf\\xc4\\xb4\\xb5\\xbff\\xb9\\xba\\xaa\\xb7\\xc6d\\xaa\\xba\\xba\\xa6\\xb5\\xb0n\\xc7\\xb8\\xbb\\xa7\\xba\\xaa\\xb9\\xae\\xb3\\xc7d\\xbd\\xb5f\\xb7\\xb7\\xa8\\xbd\\xca\\xa9\\xbbf\\xba\\xad\\xb7e\\xb9\\xb9\\xbdi\\xb2\\xab\\xb3\\xb9\\xb9\\xb6t\\xa5\\xb7\\xaaf\\xae\\xc0\\xb9\\xb3\\xc6\\xb2\\xaa\\xb2f\\xb8\\xc6\\xb7\\xc3\\xb7\\xb8\\xbe\\xb8\\xabe\\xb4\\xa6\\xc1\\xb9\\xa8i\\xb5\\xb4e\\xc5\\xb9\\xaf\\xc8\\xad\\xbc\\xba\\xaf\\xa8\\xb3\\xb1n\\xc1\\xa9\\xbd\\xae\\xb5\\xa9\\xc5s')"
      ]
     },
     "execution_count": 107,
     "metadata": {},
     "output_type": "execute_result"
    }
   ],
   "source": [
    "key = \"DIFFERENT\"\n",
    "message = \"Throughout history, the art of secret writing has evolved from simple substitution ciphers to the most advanced public key cryptosystems. Early methods relied heavily on letter frequency patterns, making them vulnerable to analytical attacks. Modern cryptography blends mathematics, computer science, and information theory to ensure confidentiality and integrity in a digital world. Researchers constantly probe algorithms to identify weaknesses and strengthen protocols. By experimenting with challenging but known plaintexts, learners develop intuition about how cryptanalysis works in practice. This extended sample contains diverse punctuation marks, spaces, and varying word lengths to simulate a realistic message that still allows for systematic analysis. Users can encrypt this passage using a repeating Vigenere key and then apply their attack strategies to recover the key length and internal structure based on statistical methods.\"\n",
    "language = \"en\"\n",
    "setKey(key)\n",
    "setmsg(message)\n",
    "cypher()\n",
    "\n",
    "with open(\"cypher.bin\", \"rb\") as f:\n",
    "    encrypted = f.read()\n",
    "    encrypted = bytearray(encrypted)\n",
    "\n",
    "encrypted"
   ]
  },
  {
   "cell_type": "code",
   "execution_count": 108,
   "id": "55dcd640",
   "metadata": {},
   "outputs": [
    {
     "data": {
      "text/plain": [
       "'DIFFERENT'"
      ]
     },
     "execution_count": 108,
     "metadata": {},
     "output_type": "execute_result"
    }
   ],
   "source": [
    "attack(encrypted)"
   ]
  },
  {
   "cell_type": "markdown",
   "id": "74527cb6",
   "metadata": {},
   "source": [
    "Finalmente, testemos com outra mensagem. É importante que ela seja em inglês e que contenha um número de palavras suficientemente grande para que a nossa análise estatística seja bem-sucedida."
   ]
  },
  {
   "cell_type": "code",
   "execution_count": 109,
   "id": "2074a9a1",
   "metadata": {},
   "outputs": [
    {
     "name": "stdout",
     "output_type": "stream",
     "text": [
      "# Arquivo input.txt cifrado com sucesso e salvo como cypher.bin.\n"
     ]
    },
    {
     "data": {
      "text/plain": [
       "bytearray(b'\\x93\\xb3\\xcc\\xc3\\xcb\\xbe\\xb9\\xb6\\xb1\\xb1\\xbb\\xccw\\xb8\\xc5d\\xc4\\xa9\\xb8s\\xca\\xb2\\xbb\\xa9\\xbe\\xa4\\xb8s\\xc6\\xb5r\\xb7\\xb5\\xa4\\xc8\\xc5\\xc0\\xbd\\xb9d\\xb3\\xb0\\xc0\\xc0\\xcc\\xbd\\xbb\\xa7\\xb1\\xb5\\xbc\\xc2\\xc5o\\xb4\\xbdp\\xa4\\xc2\\xc1\\xcd\\xb4\\xc4\\xb8\\xb9\\xaf\\xbas\\xbb\\xb0\\xc6\\xa5p\\xaa\\xc1\\xc7\\xc6o\\xc7\\xb2\\xc2\\xa6\\xb4\\xb7\\xb8\\xb1\\xbe\\xa9p\\xa7\\xc2\\xc5\\xc4\\xb0\\xc6\\xb7|a\\xb8\\xc1\\xca\\xc4\\xc4\\xad\\xbe\\xa8s\\xb6\\xc6\\xbd\\xb8\\xad\\xb4\\xa6\\xc1\\xc7\\xc0\\xb0\\xbe\\xad\\xc4\\xba\\x81s\\xa4\\xbe\\xb6\\xa9\\xc2\\xafs\\xc6\\xd0\\xc2\\xc6\\xa9\\xbd\\xb4s\\xc8\\xca\\xb4r\\xb7\\xc9\\xae\\xc0\\xb8\\xcb\\xc1\\xbb\\xa7p\\xa4\\xbc\\xc3\\xbf\\xb4\\xc4\\xb7p\\xad\\xbc\\xbe\\xbco\\x93\\x89\\xa3ms\\xb4\\xca\\xc8\\xbf\\xb1\\xb5\\xb5\\xc5\\xbc\\xbao\\xbf\\xa9\\xc4\\xa9\\xc2\\xb7\\xcao\\xc5\\xb9\\xb3\\xa9s\\xb4\\xcao\\xa4\\x97\\x91a\\xc2\\xc5w\\xb4\\xbe\\xb0\\xb9\\xb1\\xc7\\xbc\\xbao\\xb5\\xb9\\xc2\\xb7\\xb8s\\xba\\xc1\\xcb\\xb4\\xc4\\xb0\\xba\\xc5\\xb8\\xbf\\xba\\xbd|a\\xb4\\xc1\\xbbo\\xba\\xa5\\xc3\\xa9\\xbc\\xc1\\xbeo\\xb8\\xb9\\xbe\\xa4\\xc7\\xbc\\xc6\\xbd\\xc5d\\xbc\\xaa\\xbe\\xb8w\\xa2\\x9a\\x85~a\\xa7\\xb8\\xba\\xb7\\xc0\\xad\\xc1\\xb6\\xb8\\xc6w\\xc2\\xc7\\xa7\\xb8a\\xb4\\xc6w\\xb3\\xbb\\xab\\xb9\\xb5\\xb4\\xbfw\\xc2\\xbb\\xab\\xbe\\xa2\\xc7\\xc8\\xc9\\xb4\\xc5d\\xc6\\xa6\\xc5\\xbc\\xbd\\xc8r\\xad\\xb4\\xa6\\xc1\\xc7\\xc0\\xc3\\xcbd\\xb1\\xaf\\xb7s\\xc7\\xc1\\xc1\\xb8\\xb5\\xa4\\xc7s\\xc0\\xbd\\xb8\\xb3\\xc2\\xae\\xb4\\xc7\\xc0\\xbe\\xc0d\\xb9\\xafs\\xc7\\xc9\\xb0\\xc0\\xb7\\xb9\\xb5s\\xb4\\xc5\\xb3r\\xa5\\xc4a\\xc5\\xb8\\xca\\xc3r\\xaa\\xc2\\xb0\\xc0s\\xcc\\xbd\\xb3\\xb9\\xc4\\xa9\\xc2\\xc5\\xc0\\xc9\\xb7\\xa8p\\xa2\\xb6\\xb6\\xbc\\xc2\\xc5d\\xb1\\xaf\\xb7s\\xcb\\xb0\\xbf\\xb4\\xb5\\xb3\\xbc\\xc1\\xbe}')"
      ]
     },
     "execution_count": 109,
     "metadata": {},
     "output_type": "execute_result"
    }
   ],
   "source": [
    "message = \"Cryptography is the science of securing communication by converting data into unreadable formats, ensuring confidentiality. Modern systems use symmetric ciphers like AES, asymmetric methods such as RSA or elliptic curve cryptography, and hashing functions like SHA. Techniques such as digital signatures verify identity and protect information in transit and at rest from unauthorized access and tampering.\"\n",
    "secret = \"PASSWORD\"\n",
    "language = \"en\"\n",
    "setKey(secret)\n",
    "setmsg(message)\n",
    "cypher()\n",
    "\n",
    "with open(\"cypher.bin\", \"rb\") as f:\n",
    "    encrypted = f.read()\n",
    "    encrypted = bytearray(encrypted)\n",
    "\n",
    "encrypted"
   ]
  },
  {
   "cell_type": "code",
   "execution_count": 110,
   "id": "5a02b550",
   "metadata": {},
   "outputs": [
    {
     "data": {
      "text/plain": [
       "[2, 4, 8]"
      ]
     },
     "execution_count": 110,
     "metadata": {},
     "output_type": "execute_result"
    }
   ],
   "source": [
    "select_candidates(encrypted)"
   ]
  },
  {
   "cell_type": "code",
   "execution_count": 111,
   "id": "c84533f5",
   "metadata": {},
   "outputs": [
    {
     "data": {
      "text/plain": [
       "'PASSWORD'"
      ]
     },
     "execution_count": 111,
     "metadata": {},
     "output_type": "execute_result"
    }
   ],
   "source": [
    "attack(encrypted, language)"
   ]
  }
 ],
 "metadata": {
  "kernelspec": {
   "display_name": "Python 3",
   "language": "python",
   "name": "python3"
  },
  "language_info": {
   "codemirror_mode": {
    "name": "ipython",
    "version": 3
   },
   "file_extension": ".py",
   "mimetype": "text/x-python",
   "name": "python",
   "nbconvert_exporter": "python",
   "pygments_lexer": "ipython3",
   "version": "3.12.7"
  }
 },
 "nbformat": 4,
 "nbformat_minor": 5
}
