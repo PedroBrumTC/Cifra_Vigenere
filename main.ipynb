{
 "cells": [
  {
   "cell_type": "markdown",
   "id": "9648e80a",
   "metadata": {},
   "source": [
    "        "
   ]
  },
  {
   "cell_type": "code",
   "execution_count": 12,
   "id": "de6dc83b",
   "metadata": {},
   "outputs": [],
   "source": [
    "from Cifra_Vigenere import Vigenere"
   ]
  },
  {
   "cell_type": "code",
   "execution_count": 13,
   "id": "773fd673",
   "metadata": {},
   "outputs": [],
   "source": [
    "mudar_chave = input(\"Deseja mudar a chave? (s/n): \").strip().lower()\n",
    "if mudar_chave == 's':\n",
    "    chave = input(\"Digite a nova chave: \")\n",
    "    \n",
    "    with open(\"chave.txt\", \"w\") as chave_file:\n",
    "        chave_file.write(chave)"
   ]
  },
  {
   "cell_type": "code",
   "execution_count": 14,
   "id": "c3484262",
   "metadata": {},
   "outputs": [],
   "source": [
    "codificador = Vigenere(xor_or_add=\"add\")\n",
    "\n",
    "arquivo = input(\"Digite o nome do arquivo a ser codificado: \")\n",
    "if arquivo == \"\":\n",
    "    arquivo = \"Dom_Casmurro.txt\"\n"
   ]
  },
  {
   "cell_type": "code",
   "execution_count": 15,
   "id": "e3bb5c04",
   "metadata": {},
   "outputs": [
    {
     "name": "stdout",
     "output_type": "stream",
     "text": [
      "# Arquivo Dom_Casmurro.txt cifrado com sucesso e salvo como Dom_Casmurro_cifrado.bin.\n"
     ]
    }
   ],
   "source": [
    "codificador.encrypt(arquivo)"
   ]
  },
  {
   "cell_type": "code",
   "execution_count": 16,
   "id": "c8b738bb",
   "metadata": {},
   "outputs": [
    {
     "name": "stdout",
     "output_type": "stream",
     "text": [
      "# Arquivo Dom_Casmurro_cifrado.bin decifrado com sucesso e salvo como Dom_Casmurro_decifrado.txt.\n"
     ]
    }
   ],
   "source": [
    "arquivo = input(\"Digite o nome do arquivo a ser decodificado: \")\n",
    "\n",
    "if arquivo == \"\":\n",
    "    arquivo = \"Dom_Casmurro_cifrado.bin\"\n",
    "codificador.decrypt(arquivo)"
   ]
  },
  {
   "cell_type": "code",
   "execution_count": 17,
   "id": "84dd2125",
   "metadata": {},
   "outputs": [
    {
     "name": "stdout",
     "output_type": "stream",
     "text": [
      "O arquivo decifrado é igual ao arquivo original.\n"
     ]
    }
   ],
   "source": [
    "with open(\"Dom_Casmurro.txt\", 'rb') as f_original, open(\"Dom_Casmurro_decifrado.txt\", 'rb') as f_decifrado:\n",
    "    f_decifrado = f_decifrado.read()\n",
    "    f_original = f_original.read()\n",
    "    if f_decifrado == f_original:\n",
    "        print(\"O arquivo decifrado é igual ao arquivo original.\")\n",
    "    else:\n",
    "        print(\"O arquivo decifrado é diferente do arquivo original.\")"
   ]
  }
 ],
 "metadata": {
  "kernelspec": {
   "display_name": "Python 3",
   "language": "python",
   "name": "python3"
  },
  "language_info": {
   "codemirror_mode": {
    "name": "ipython",
    "version": 3
   },
   "file_extension": ".py",
   "mimetype": "text/x-python",
   "name": "python",
   "nbconvert_exporter": "python",
   "pygments_lexer": "ipython3",
   "version": "3.12.7"
  }
 },
 "nbformat": 4,
 "nbformat_minor": 5
}
